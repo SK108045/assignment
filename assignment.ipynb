{
 "cells": [
  {
   "cell_type": "code",
   "execution_count": 1,
   "metadata": {},
   "outputs": [
    {
     "name": "stdout",
     "output_type": "stream",
     "text": [
      "Jane was born in 2002\n",
      "Peter was born in 2003\n",
      "Luke was born in 2004\n",
      "Mike was born in 2005\n"
     ]
    }
   ],
   "source": [
    "names = ['Jane', 'Peter', 'Luke','Mike']\n",
    "YOB = [2002, 2003,2004,2005]\n",
    "for i in range(len(names)):\n",
    "    print(f\"{names[i]} was born in {YOB[i]}\")"
   ]
  },
  {
   "cell_type": "code",
   "execution_count": 2,
   "metadata": {},
   "outputs": [
    {
     "name": "stdout",
     "output_type": "stream",
     "text": [
      "Jane is 22  years old\n",
      "Peter is 21  years old\n",
      "Luke is 20  years old\n",
      "Mike is 19  years old\n"
     ]
    }
   ],
   "source": [
    "names = ['Jane', 'Peter', 'Luke','Mike']\n",
    "YOB = [2002, 2003,2004,2005]\n",
    "current_year = 2024\n",
    "\n",
    "for i in range(len(names)):\n",
    "    Age = 2024 - YOB [i]\n",
    "    print(f\"{names[i]} is {Age}  years old\")"
   ]
  },
  {
   "cell_type": "code",
   "execution_count": 3,
   "metadata": {},
   "outputs": [
    {
     "name": "stdout",
     "output_type": "stream",
     "text": [
      "Jane is 22 years old\n",
      "Peter is 21 years old\n",
      "Luke is 20 years old\n",
      "Mike is 19 years old\n"
     ]
    }
   ],
   "source": [
    "# Using a function now\n",
    "def calculate_ages(names,YOB,current_year,Age):\n",
    "    for i in range(len(names)):\n",
    "        Age = current_year - YOB [i]\n",
    "        print(f\"{names[i]} is {Age} years old\")\n",
    "\n",
    "names = ['Jane', 'Peter', 'Luke','Mike']\n",
    "YOB = [2002, 2003,2004,2005]\n",
    "current_year = 2024\n",
    "\n",
    "calculate_ages(names,YOB,current_year, Age)\n",
    "\n",
    "     "
   ]
  }
 ],
 "metadata": {
  "kernelspec": {
   "display_name": "Python 3 (ipykernel)",
   "language": "python",
   "name": "python3"
  },
  "language_info": {
   "codemirror_mode": {
    "name": "ipython",
    "version": 3
   },
   "file_extension": ".py",
   "mimetype": "text/x-python",
   "name": "python",
   "nbconvert_exporter": "python",
   "pygments_lexer": "ipython3",
   "version": "3.12.4"
  }
 },
 "nbformat": 4,
 "nbformat_minor": 2
}
